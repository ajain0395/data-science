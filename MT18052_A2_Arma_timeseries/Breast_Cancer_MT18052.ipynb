{
 "cells": [
  {
   "cell_type": "markdown",
   "metadata": {},
   "source": [
    "Reference\n",
    "\n",
    "    https://en.wikipedia.org/wiki/Diagnostic_odds_ratio\n",
    "    http://www.science.smith.edu/~jcrouser/SDS293/labs/lab4-py.html\n",
    "\n"
   ]
  },
  {
   "cell_type": "code",
   "execution_count": 1,
   "metadata": {},
   "outputs": [],
   "source": [
    "import pandas as pd\n",
    "import numpy as np\n",
    "import statsmodels.formula.api as smf\n",
    "import statsmodels.api as sm\n",
    "from sklearn.metrics import confusion_matrix, classification_report\n",
    "from sklearn.model_selection import train_test_split"
   ]
  },
  {
   "cell_type": "code",
   "execution_count": 2,
   "metadata": {},
   "outputs": [],
   "source": [
    "data = pd.read_csv(\"./data/BreastCancer.csv\")"
   ]
  },
  {
   "cell_type": "code",
   "execution_count": 3,
   "metadata": {},
   "outputs": [
    {
     "data": {
      "text/html": [
       "<div>\n",
       "<style scoped>\n",
       "    .dataframe tbody tr th:only-of-type {\n",
       "        vertical-align: middle;\n",
       "    }\n",
       "\n",
       "    .dataframe tbody tr th {\n",
       "        vertical-align: top;\n",
       "    }\n",
       "\n",
       "    .dataframe thead th {\n",
       "        text-align: right;\n",
       "    }\n",
       "</style>\n",
       "<table border=\"1\" class=\"dataframe\">\n",
       "  <thead>\n",
       "    <tr style=\"text-align: right;\">\n",
       "      <th></th>\n",
       "      <th>Id</th>\n",
       "      <th>Cl.thickness</th>\n",
       "      <th>Cell.size</th>\n",
       "      <th>Cell.shape</th>\n",
       "      <th>Marg.adhesion</th>\n",
       "      <th>Epith.c.size</th>\n",
       "      <th>Bare.nuclei</th>\n",
       "      <th>Bl.cromatin</th>\n",
       "      <th>Normal.nucleoli</th>\n",
       "      <th>Mitoses</th>\n",
       "      <th>Class</th>\n",
       "    </tr>\n",
       "  </thead>\n",
       "  <tbody>\n",
       "    <tr>\n",
       "      <td>0</td>\n",
       "      <td>1000025</td>\n",
       "      <td>5</td>\n",
       "      <td>1</td>\n",
       "      <td>1</td>\n",
       "      <td>1</td>\n",
       "      <td>2</td>\n",
       "      <td>1.0</td>\n",
       "      <td>3</td>\n",
       "      <td>1</td>\n",
       "      <td>1</td>\n",
       "      <td>benign</td>\n",
       "    </tr>\n",
       "    <tr>\n",
       "      <td>1</td>\n",
       "      <td>1002945</td>\n",
       "      <td>5</td>\n",
       "      <td>4</td>\n",
       "      <td>4</td>\n",
       "      <td>5</td>\n",
       "      <td>7</td>\n",
       "      <td>10.0</td>\n",
       "      <td>3</td>\n",
       "      <td>2</td>\n",
       "      <td>1</td>\n",
       "      <td>benign</td>\n",
       "    </tr>\n",
       "    <tr>\n",
       "      <td>2</td>\n",
       "      <td>1015425</td>\n",
       "      <td>3</td>\n",
       "      <td>1</td>\n",
       "      <td>1</td>\n",
       "      <td>1</td>\n",
       "      <td>2</td>\n",
       "      <td>2.0</td>\n",
       "      <td>3</td>\n",
       "      <td>1</td>\n",
       "      <td>1</td>\n",
       "      <td>benign</td>\n",
       "    </tr>\n",
       "    <tr>\n",
       "      <td>3</td>\n",
       "      <td>1016277</td>\n",
       "      <td>6</td>\n",
       "      <td>8</td>\n",
       "      <td>8</td>\n",
       "      <td>1</td>\n",
       "      <td>3</td>\n",
       "      <td>4.0</td>\n",
       "      <td>3</td>\n",
       "      <td>7</td>\n",
       "      <td>1</td>\n",
       "      <td>benign</td>\n",
       "    </tr>\n",
       "    <tr>\n",
       "      <td>4</td>\n",
       "      <td>1017023</td>\n",
       "      <td>4</td>\n",
       "      <td>1</td>\n",
       "      <td>1</td>\n",
       "      <td>3</td>\n",
       "      <td>2</td>\n",
       "      <td>1.0</td>\n",
       "      <td>3</td>\n",
       "      <td>1</td>\n",
       "      <td>1</td>\n",
       "      <td>benign</td>\n",
       "    </tr>\n",
       "  </tbody>\n",
       "</table>\n",
       "</div>"
      ],
      "text/plain": [
       "        Id  Cl.thickness  Cell.size  Cell.shape  Marg.adhesion  Epith.c.size  \\\n",
       "0  1000025             5          1           1              1             2   \n",
       "1  1002945             5          4           4              5             7   \n",
       "2  1015425             3          1           1              1             2   \n",
       "3  1016277             6          8           8              1             3   \n",
       "4  1017023             4          1           1              3             2   \n",
       "\n",
       "   Bare.nuclei  Bl.cromatin  Normal.nucleoli  Mitoses   Class  \n",
       "0          1.0            3                1        1  benign  \n",
       "1         10.0            3                2        1  benign  \n",
       "2          2.0            3                1        1  benign  \n",
       "3          4.0            3                7        1  benign  \n",
       "4          1.0            3                1        1  benign  "
      ]
     },
     "execution_count": 3,
     "metadata": {},
     "output_type": "execute_result"
    }
   ],
   "source": [
    "data.head()"
   ]
  },
  {
   "cell_type": "code",
   "execution_count": 4,
   "metadata": {},
   "outputs": [],
   "source": [
    "labels = data['Class']\n",
    "data = data.drop(columns=['Id'])"
   ]
  },
  {
   "cell_type": "markdown",
   "metadata": {},
   "source": [
    "# Data Description"
   ]
  },
  {
   "cell_type": "code",
   "execution_count": 6,
   "metadata": {},
   "outputs": [
    {
     "data": {
      "text/html": [
       "<div>\n",
       "<style scoped>\n",
       "    .dataframe tbody tr th:only-of-type {\n",
       "        vertical-align: middle;\n",
       "    }\n",
       "\n",
       "    .dataframe tbody tr th {\n",
       "        vertical-align: top;\n",
       "    }\n",
       "\n",
       "    .dataframe thead th {\n",
       "        text-align: right;\n",
       "    }\n",
       "</style>\n",
       "<table border=\"1\" class=\"dataframe\">\n",
       "  <thead>\n",
       "    <tr style=\"text-align: right;\">\n",
       "      <th></th>\n",
       "      <th>Cl.thickness</th>\n",
       "      <th>Cell.size</th>\n",
       "      <th>Cell.shape</th>\n",
       "      <th>Marg.adhesion</th>\n",
       "      <th>Epith.c.size</th>\n",
       "      <th>Bare.nuclei</th>\n",
       "      <th>Bl.cromatin</th>\n",
       "      <th>Normal.nucleoli</th>\n",
       "      <th>Mitoses</th>\n",
       "      <th>Class</th>\n",
       "    </tr>\n",
       "  </thead>\n",
       "  <tbody>\n",
       "    <tr>\n",
       "      <td>0</td>\n",
       "      <td>5</td>\n",
       "      <td>1</td>\n",
       "      <td>1</td>\n",
       "      <td>1</td>\n",
       "      <td>2</td>\n",
       "      <td>1.0</td>\n",
       "      <td>3</td>\n",
       "      <td>1</td>\n",
       "      <td>1</td>\n",
       "      <td>benign</td>\n",
       "    </tr>\n",
       "    <tr>\n",
       "      <td>1</td>\n",
       "      <td>5</td>\n",
       "      <td>4</td>\n",
       "      <td>4</td>\n",
       "      <td>5</td>\n",
       "      <td>7</td>\n",
       "      <td>10.0</td>\n",
       "      <td>3</td>\n",
       "      <td>2</td>\n",
       "      <td>1</td>\n",
       "      <td>benign</td>\n",
       "    </tr>\n",
       "    <tr>\n",
       "      <td>2</td>\n",
       "      <td>3</td>\n",
       "      <td>1</td>\n",
       "      <td>1</td>\n",
       "      <td>1</td>\n",
       "      <td>2</td>\n",
       "      <td>2.0</td>\n",
       "      <td>3</td>\n",
       "      <td>1</td>\n",
       "      <td>1</td>\n",
       "      <td>benign</td>\n",
       "    </tr>\n",
       "    <tr>\n",
       "      <td>3</td>\n",
       "      <td>6</td>\n",
       "      <td>8</td>\n",
       "      <td>8</td>\n",
       "      <td>1</td>\n",
       "      <td>3</td>\n",
       "      <td>4.0</td>\n",
       "      <td>3</td>\n",
       "      <td>7</td>\n",
       "      <td>1</td>\n",
       "      <td>benign</td>\n",
       "    </tr>\n",
       "    <tr>\n",
       "      <td>4</td>\n",
       "      <td>4</td>\n",
       "      <td>1</td>\n",
       "      <td>1</td>\n",
       "      <td>3</td>\n",
       "      <td>2</td>\n",
       "      <td>1.0</td>\n",
       "      <td>3</td>\n",
       "      <td>1</td>\n",
       "      <td>1</td>\n",
       "      <td>benign</td>\n",
       "    </tr>\n",
       "  </tbody>\n",
       "</table>\n",
       "</div>"
      ],
      "text/plain": [
       "   Cl.thickness  Cell.size  Cell.shape  Marg.adhesion  Epith.c.size  \\\n",
       "0             5          1           1              1             2   \n",
       "1             5          4           4              5             7   \n",
       "2             3          1           1              1             2   \n",
       "3             6          8           8              1             3   \n",
       "4             4          1           1              3             2   \n",
       "\n",
       "   Bare.nuclei  Bl.cromatin  Normal.nucleoli  Mitoses   Class  \n",
       "0          1.0            3                1        1  benign  \n",
       "1         10.0            3                2        1  benign  \n",
       "2          2.0            3                1        1  benign  \n",
       "3          4.0            3                7        1  benign  \n",
       "4          1.0            3                1        1  benign  "
      ]
     },
     "execution_count": 6,
     "metadata": {},
     "output_type": "execute_result"
    }
   ],
   "source": [
    "data.head()"
   ]
  },
  {
   "cell_type": "code",
   "execution_count": 7,
   "metadata": {},
   "outputs": [
    {
     "data": {
      "text/plain": [
       "0    benign\n",
       "1    benign\n",
       "2    benign\n",
       "3    benign\n",
       "4    benign\n",
       "Name: Class, dtype: object"
      ]
     },
     "execution_count": 7,
     "metadata": {},
     "output_type": "execute_result"
    }
   ],
   "source": [
    "labels.head()"
   ]
  },
  {
   "cell_type": "code",
   "execution_count": 8,
   "metadata": {},
   "outputs": [
    {
     "data": {
      "text/plain": [
       "Cl.thickness       699\n",
       "Cell.size          699\n",
       "Cell.shape         699\n",
       "Marg.adhesion      699\n",
       "Epith.c.size       699\n",
       "Bare.nuclei        699\n",
       "Bl.cromatin        699\n",
       "Normal.nucleoli    699\n",
       "Mitoses            699\n",
       "Class              699\n",
       "dtype: int64"
      ]
     },
     "execution_count": 8,
     "metadata": {},
     "output_type": "execute_result"
    }
   ],
   "source": [
    "data.isnull().count()"
   ]
  },
  {
   "cell_type": "code",
   "execution_count": 9,
   "metadata": {},
   "outputs": [
    {
     "name": "stdout",
     "output_type": "stream",
     "text": [
      "<class 'pandas.core.frame.DataFrame'>\n",
      "RangeIndex: 699 entries, 0 to 698\n",
      "Data columns (total 10 columns):\n",
      "Cl.thickness       699 non-null int64\n",
      "Cell.size          699 non-null int64\n",
      "Cell.shape         699 non-null int64\n",
      "Marg.adhesion      699 non-null int64\n",
      "Epith.c.size       699 non-null int64\n",
      "Bare.nuclei        683 non-null float64\n",
      "Bl.cromatin        699 non-null int64\n",
      "Normal.nucleoli    699 non-null int64\n",
      "Mitoses            699 non-null int64\n",
      "Class              699 non-null object\n",
      "dtypes: float64(1), int64(8), object(1)\n",
      "memory usage: 54.7+ KB\n"
     ]
    }
   ],
   "source": [
    "data.info()"
   ]
  },
  {
   "cell_type": "code",
   "execution_count": 10,
   "metadata": {},
   "outputs": [
    {
     "data": {
      "text/html": [
       "<div>\n",
       "<style scoped>\n",
       "    .dataframe tbody tr th:only-of-type {\n",
       "        vertical-align: middle;\n",
       "    }\n",
       "\n",
       "    .dataframe tbody tr th {\n",
       "        vertical-align: top;\n",
       "    }\n",
       "\n",
       "    .dataframe thead th {\n",
       "        text-align: right;\n",
       "    }\n",
       "</style>\n",
       "<table border=\"1\" class=\"dataframe\">\n",
       "  <thead>\n",
       "    <tr style=\"text-align: right;\">\n",
       "      <th></th>\n",
       "      <th>Cl.thickness</th>\n",
       "      <th>Cell.size</th>\n",
       "      <th>Cell.shape</th>\n",
       "      <th>Marg.adhesion</th>\n",
       "      <th>Epith.c.size</th>\n",
       "      <th>Bare.nuclei</th>\n",
       "      <th>Bl.cromatin</th>\n",
       "      <th>Normal.nucleoli</th>\n",
       "      <th>Mitoses</th>\n",
       "    </tr>\n",
       "  </thead>\n",
       "  <tbody>\n",
       "    <tr>\n",
       "      <td>count</td>\n",
       "      <td>699.000000</td>\n",
       "      <td>699.000000</td>\n",
       "      <td>699.000000</td>\n",
       "      <td>699.000000</td>\n",
       "      <td>699.000000</td>\n",
       "      <td>683.000000</td>\n",
       "      <td>699.000000</td>\n",
       "      <td>699.000000</td>\n",
       "      <td>699.000000</td>\n",
       "    </tr>\n",
       "    <tr>\n",
       "      <td>mean</td>\n",
       "      <td>4.417740</td>\n",
       "      <td>3.134478</td>\n",
       "      <td>3.207439</td>\n",
       "      <td>2.806867</td>\n",
       "      <td>3.216023</td>\n",
       "      <td>3.544656</td>\n",
       "      <td>3.437768</td>\n",
       "      <td>2.866953</td>\n",
       "      <td>1.589413</td>\n",
       "    </tr>\n",
       "    <tr>\n",
       "      <td>std</td>\n",
       "      <td>2.815741</td>\n",
       "      <td>3.051459</td>\n",
       "      <td>2.971913</td>\n",
       "      <td>2.855379</td>\n",
       "      <td>2.214300</td>\n",
       "      <td>3.643857</td>\n",
       "      <td>2.438364</td>\n",
       "      <td>3.053634</td>\n",
       "      <td>1.715078</td>\n",
       "    </tr>\n",
       "    <tr>\n",
       "      <td>min</td>\n",
       "      <td>1.000000</td>\n",
       "      <td>1.000000</td>\n",
       "      <td>1.000000</td>\n",
       "      <td>1.000000</td>\n",
       "      <td>1.000000</td>\n",
       "      <td>1.000000</td>\n",
       "      <td>1.000000</td>\n",
       "      <td>1.000000</td>\n",
       "      <td>1.000000</td>\n",
       "    </tr>\n",
       "    <tr>\n",
       "      <td>25%</td>\n",
       "      <td>2.000000</td>\n",
       "      <td>1.000000</td>\n",
       "      <td>1.000000</td>\n",
       "      <td>1.000000</td>\n",
       "      <td>2.000000</td>\n",
       "      <td>1.000000</td>\n",
       "      <td>2.000000</td>\n",
       "      <td>1.000000</td>\n",
       "      <td>1.000000</td>\n",
       "    </tr>\n",
       "    <tr>\n",
       "      <td>50%</td>\n",
       "      <td>4.000000</td>\n",
       "      <td>1.000000</td>\n",
       "      <td>1.000000</td>\n",
       "      <td>1.000000</td>\n",
       "      <td>2.000000</td>\n",
       "      <td>1.000000</td>\n",
       "      <td>3.000000</td>\n",
       "      <td>1.000000</td>\n",
       "      <td>1.000000</td>\n",
       "    </tr>\n",
       "    <tr>\n",
       "      <td>75%</td>\n",
       "      <td>6.000000</td>\n",
       "      <td>5.000000</td>\n",
       "      <td>5.000000</td>\n",
       "      <td>4.000000</td>\n",
       "      <td>4.000000</td>\n",
       "      <td>6.000000</td>\n",
       "      <td>5.000000</td>\n",
       "      <td>4.000000</td>\n",
       "      <td>1.000000</td>\n",
       "    </tr>\n",
       "    <tr>\n",
       "      <td>max</td>\n",
       "      <td>10.000000</td>\n",
       "      <td>10.000000</td>\n",
       "      <td>10.000000</td>\n",
       "      <td>10.000000</td>\n",
       "      <td>10.000000</td>\n",
       "      <td>10.000000</td>\n",
       "      <td>10.000000</td>\n",
       "      <td>10.000000</td>\n",
       "      <td>10.000000</td>\n",
       "    </tr>\n",
       "  </tbody>\n",
       "</table>\n",
       "</div>"
      ],
      "text/plain": [
       "       Cl.thickness   Cell.size  Cell.shape  Marg.adhesion  Epith.c.size  \\\n",
       "count    699.000000  699.000000  699.000000     699.000000    699.000000   \n",
       "mean       4.417740    3.134478    3.207439       2.806867      3.216023   \n",
       "std        2.815741    3.051459    2.971913       2.855379      2.214300   \n",
       "min        1.000000    1.000000    1.000000       1.000000      1.000000   \n",
       "25%        2.000000    1.000000    1.000000       1.000000      2.000000   \n",
       "50%        4.000000    1.000000    1.000000       1.000000      2.000000   \n",
       "75%        6.000000    5.000000    5.000000       4.000000      4.000000   \n",
       "max       10.000000   10.000000   10.000000      10.000000     10.000000   \n",
       "\n",
       "       Bare.nuclei  Bl.cromatin  Normal.nucleoli     Mitoses  \n",
       "count   683.000000   699.000000       699.000000  699.000000  \n",
       "mean      3.544656     3.437768         2.866953    1.589413  \n",
       "std       3.643857     2.438364         3.053634    1.715078  \n",
       "min       1.000000     1.000000         1.000000    1.000000  \n",
       "25%       1.000000     2.000000         1.000000    1.000000  \n",
       "50%       1.000000     3.000000         1.000000    1.000000  \n",
       "75%       6.000000     5.000000         4.000000    1.000000  \n",
       "max      10.000000    10.000000        10.000000   10.000000  "
      ]
     },
     "execution_count": 10,
     "metadata": {},
     "output_type": "execute_result"
    }
   ],
   "source": [
    "data.describe()"
   ]
  },
  {
   "cell_type": "markdown",
   "metadata": {},
   "source": [
    "# Handling Missing Values"
   ]
  },
  {
   "cell_type": "code",
   "execution_count": 11,
   "metadata": {},
   "outputs": [
    {
     "data": {
      "text/plain": [
       "Cl.thickness        0\n",
       "Cell.size           0\n",
       "Cell.shape          0\n",
       "Marg.adhesion       0\n",
       "Epith.c.size        0\n",
       "Bare.nuclei        16\n",
       "Bl.cromatin         0\n",
       "Normal.nucleoli     0\n",
       "Mitoses             0\n",
       "Class               0\n",
       "dtype: int64"
      ]
     },
     "execution_count": 11,
     "metadata": {},
     "output_type": "execute_result"
    }
   ],
   "source": [
    "data.isnull().sum()"
   ]
  },
  {
   "cell_type": "code",
   "execution_count": 12,
   "metadata": {},
   "outputs": [],
   "source": [
    "data =data.fillna(0)"
   ]
  },
  {
   "cell_type": "code",
   "execution_count": 13,
   "metadata": {},
   "outputs": [
    {
     "data": {
      "text/plain": [
       "Cl.thickness       0\n",
       "Cell.size          0\n",
       "Cell.shape         0\n",
       "Marg.adhesion      0\n",
       "Epith.c.size       0\n",
       "Bare.nuclei        0\n",
       "Bl.cromatin        0\n",
       "Normal.nucleoli    0\n",
       "Mitoses            0\n",
       "Class              0\n",
       "dtype: int64"
      ]
     },
     "execution_count": 13,
     "metadata": {},
     "output_type": "execute_result"
    }
   ],
   "source": [
    "data.isnull().sum()"
   ]
  },
  {
   "cell_type": "code",
   "execution_count": 14,
   "metadata": {},
   "outputs": [
    {
     "data": {
      "text/plain": [
       "Index(['Cl.thickness', 'Cell.size', 'Cell.shape', 'Marg.adhesion',\n",
       "       'Epith.c.size', 'Bare.nuclei', 'Bl.cromatin', 'Normal.nucleoli',\n",
       "       'Mitoses', 'Class'],\n",
       "      dtype='object')"
      ]
     },
     "execution_count": 14,
     "metadata": {},
     "output_type": "execute_result"
    }
   ],
   "source": [
    "data.keys()"
   ]
  },
  {
   "cell_type": "code",
   "execution_count": 15,
   "metadata": {},
   "outputs": [],
   "source": [
    "data.columns=['Thickness','Size','Shape','Adhesion','Epith_Size','Bare_Nuclei','Cromatin','Normal_Nucleoli','Mitoses','Label']\n"
   ]
  },
  {
   "cell_type": "code",
   "execution_count": 16,
   "metadata": {},
   "outputs": [
    {
     "data": {
      "text/plain": [
       "Index(['Thickness', 'Size', 'Shape', 'Adhesion', 'Epith_Size', 'Bare_Nuclei',\n",
       "       'Cromatin', 'Normal_Nucleoli', 'Mitoses', 'Label'],\n",
       "      dtype='object')"
      ]
     },
     "execution_count": 16,
     "metadata": {},
     "output_type": "execute_result"
    }
   ],
   "source": [
    "data.keys()"
   ]
  },
  {
   "cell_type": "markdown",
   "metadata": {},
   "source": [
    "# Splitting data"
   ]
  },
  {
   "cell_type": "code",
   "execution_count": 17,
   "metadata": {},
   "outputs": [],
   "source": [
    "xtrain, xtest, ytrain, ytest = train_test_split(data, labels, test_size = 0.3)"
   ]
  },
  {
   "cell_type": "code",
   "execution_count": 18,
   "metadata": {},
   "outputs": [
    {
     "data": {
      "text/plain": [
       "(489, 210)"
      ]
     },
     "execution_count": 18,
     "metadata": {},
     "output_type": "execute_result"
    }
   ],
   "source": [
    "len(xtrain),len(xtest)"
   ]
  },
  {
   "cell_type": "markdown",
   "metadata": {},
   "source": [
    "# Training GLM"
   ]
  },
  {
   "cell_type": "code",
   "execution_count": 19,
   "metadata": {},
   "outputs": [],
   "source": [
    "def info(model):\n",
    "    l= [model.params , model.pvalues , model.model.endog_names ]\n",
    "    dd={\"Coefficeients\":l[0],\"p-Values\":l[1],\"Dependent variables\":l[2]}\n",
    "    for i in dd.keys():\n",
    "        print (i)\n",
    "        #print(\"\\n\")\n",
    "        print(dd[i])\n",
    "        print(\"\\n\")\n",
    "        \n",
    "    \n",
    "    "
   ]
  },
  {
   "cell_type": "code",
   "execution_count": 20,
   "metadata": {},
   "outputs": [],
   "source": [
    "def glm_model(xtrain,given_formula):\n",
    "    clf = smf.glm(formula = given_formula , data = xtrain, family = sm.families.Binomial()).fit()\n",
    "    print(clf.summary())\n",
    "    info(clf)\n",
    "    return clf\n",
    "    "
   ]
  },
  {
   "cell_type": "code",
   "execution_count": 21,
   "metadata": {},
   "outputs": [
    {
     "name": "stdout",
     "output_type": "stream",
     "text": [
      "                           Generalized Linear Model Regression Results                           \n",
      "=================================================================================================\n",
      "Dep. Variable:     ['Label[benign]', 'Label[malignant]']   No. Observations:                  489\n",
      "Model:                                               GLM   Df Residuals:                      479\n",
      "Model Family:                                   Binomial   Df Model:                            9\n",
      "Link Function:                                     logit   Scale:                          1.0000\n",
      "Method:                                             IRLS   Log-Likelihood:                -32.088\n",
      "Date:                                   Tue, 29 Oct 2019   Deviance:                       64.177\n",
      "Time:                                           23:12:05   Pearson chi2:                     213.\n",
      "No. Iterations:                                        8                                         \n",
      "Covariance Type:                               nonrobust                                         \n",
      "===================================================================================\n",
      "                      coef    std err          z      P>|z|      [0.025      0.975]\n",
      "-----------------------------------------------------------------------------------\n",
      "Intercept          10.5338      1.523      6.915      0.000       7.548      13.520\n",
      "Thickness          -0.6701      0.197     -3.398      0.001      -1.057      -0.284\n",
      "Size                0.0957      0.286      0.335      0.738      -0.465       0.656\n",
      "Shape              -0.2803      0.298     -0.940      0.347      -0.865       0.304\n",
      "Adhesion           -0.3904      0.179     -2.180      0.029      -0.741      -0.039\n",
      "Epith_Size          0.1249      0.209      0.597      0.550      -0.285       0.535\n",
      "Bare_Nuclei        -0.5349      0.125     -4.276      0.000      -0.780      -0.290\n",
      "Cromatin           -0.4654      0.229     -2.031      0.042      -0.914      -0.016\n",
      "Normal_Nucleoli    -0.2080      0.172     -1.212      0.226      -0.544       0.128\n",
      "Mitoses            -0.4901      0.383     -1.281      0.200      -1.240       0.260\n",
      "===================================================================================\n",
      "Coefficeients\n",
      "Intercept          10.533764\n",
      "Thickness          -0.670107\n",
      "Size                0.095695\n",
      "Shape              -0.280251\n",
      "Adhesion           -0.390356\n",
      "Epith_Size          0.124863\n",
      "Bare_Nuclei        -0.534917\n",
      "Cromatin           -0.465354\n",
      "Normal_Nucleoli    -0.207954\n",
      "Mitoses            -0.490098\n",
      "dtype: float64\n",
      "\n",
      "\n",
      "p-Values\n",
      "Intercept          4.692835e-12\n",
      "Thickness          6.790871e-04\n",
      "Size               7.379485e-01\n",
      "Shape              3.471921e-01\n",
      "Adhesion           2.925701e-02\n",
      "Epith_Size         5.503951e-01\n",
      "Bare_Nuclei        1.898965e-05\n",
      "Cromatin           4.225811e-02\n",
      "Normal_Nucleoli    2.256788e-01\n",
      "Mitoses            2.001181e-01\n",
      "dtype: float64\n",
      "\n",
      "\n",
      "Dependent variables\n",
      "['Label[benign]', 'Label[malignant]']\n",
      "\n",
      "\n"
     ]
    }
   ],
   "source": [
    "form = 'Label ~ Thickness+Size+Shape+Adhesion+Epith_Size+Bare_Nuclei+Cromatin+Normal_Nucleoli+Mitoses'\n",
    "model = glm_model(xtrain,form)"
   ]
  },
  {
   "cell_type": "markdown",
   "metadata": {},
   "source": [
    "# Doing Predictions"
   ]
  },
  {
   "cell_type": "code",
   "execution_count": 22,
   "metadata": {},
   "outputs": [],
   "source": [
    "pred_val = model.predict(xtest)"
   ]
  },
  {
   "cell_type": "code",
   "execution_count": 23,
   "metadata": {},
   "outputs": [
    {
     "data": {
      "text/plain": [
       "Int64Index([485, 306, 352, 653, 341, 615, 360, 490, 206, 142,\n",
       "            ...\n",
       "            353, 599, 276, 168, 335, 175, 321, 302, 398, 296],\n",
       "           dtype='int64', length=210)"
      ]
     },
     "execution_count": 23,
     "metadata": {},
     "output_type": "execute_result"
    }
   ],
   "source": [
    "pred_val.keys()"
   ]
  },
  {
   "cell_type": "code",
   "execution_count": 24,
   "metadata": {},
   "outputs": [],
   "source": [
    "def make_pred_vector(pred_val):\n",
    "    arr= []\n",
    "    for i in pred_val.keys():\n",
    "        arr.append(pred_val[i])\n",
    "    \n",
    "    for i in range(0,len(arr)):\n",
    "        if arr[i] > 0.5:\n",
    "            arr[i]= \"benign\"\n",
    "        else:\n",
    "            arr[i] = \"malignant\"\n",
    "    return arr"
   ]
  },
  {
   "cell_type": "code",
   "execution_count": 25,
   "metadata": {},
   "outputs": [],
   "source": [
    "vector = make_pred_vector(pred_val)"
   ]
  },
  {
   "cell_type": "code",
   "execution_count": 26,
   "metadata": {},
   "outputs": [
    {
     "data": {
      "text/plain": [
       "['benign',\n",
       " 'benign',\n",
       " 'benign',\n",
       " 'benign',\n",
       " 'benign',\n",
       " 'benign',\n",
       " 'malignant',\n",
       " 'benign',\n",
       " 'malignant',\n",
       " 'malignant',\n",
       " 'benign',\n",
       " 'malignant',\n",
       " 'benign',\n",
       " 'malignant',\n",
       " 'malignant',\n",
       " 'benign',\n",
       " 'benign',\n",
       " 'benign',\n",
       " 'malignant',\n",
       " 'malignant',\n",
       " 'benign',\n",
       " 'malignant',\n",
       " 'malignant',\n",
       " 'benign',\n",
       " 'malignant',\n",
       " 'benign',\n",
       " 'benign',\n",
       " 'benign',\n",
       " 'benign',\n",
       " 'benign',\n",
       " 'benign',\n",
       " 'malignant',\n",
       " 'benign',\n",
       " 'benign',\n",
       " 'malignant',\n",
       " 'malignant',\n",
       " 'malignant',\n",
       " 'malignant',\n",
       " 'benign',\n",
       " 'malignant',\n",
       " 'benign',\n",
       " 'benign',\n",
       " 'malignant',\n",
       " 'benign',\n",
       " 'benign',\n",
       " 'malignant',\n",
       " 'benign',\n",
       " 'malignant',\n",
       " 'benign',\n",
       " 'malignant',\n",
       " 'malignant',\n",
       " 'malignant',\n",
       " 'malignant',\n",
       " 'benign',\n",
       " 'malignant',\n",
       " 'benign',\n",
       " 'malignant',\n",
       " 'benign',\n",
       " 'benign',\n",
       " 'benign',\n",
       " 'benign',\n",
       " 'malignant',\n",
       " 'benign',\n",
       " 'malignant',\n",
       " 'malignant',\n",
       " 'malignant',\n",
       " 'benign',\n",
       " 'benign',\n",
       " 'malignant',\n",
       " 'benign',\n",
       " 'benign',\n",
       " 'malignant',\n",
       " 'benign',\n",
       " 'malignant',\n",
       " 'benign',\n",
       " 'benign',\n",
       " 'benign',\n",
       " 'benign',\n",
       " 'benign',\n",
       " 'malignant',\n",
       " 'benign',\n",
       " 'benign',\n",
       " 'benign',\n",
       " 'benign',\n",
       " 'malignant',\n",
       " 'malignant',\n",
       " 'benign',\n",
       " 'malignant',\n",
       " 'benign',\n",
       " 'malignant',\n",
       " 'malignant',\n",
       " 'benign',\n",
       " 'benign',\n",
       " 'benign',\n",
       " 'malignant',\n",
       " 'malignant',\n",
       " 'malignant',\n",
       " 'malignant',\n",
       " 'benign',\n",
       " 'malignant',\n",
       " 'benign',\n",
       " 'benign',\n",
       " 'benign',\n",
       " 'malignant',\n",
       " 'benign',\n",
       " 'benign',\n",
       " 'benign',\n",
       " 'malignant',\n",
       " 'benign',\n",
       " 'benign',\n",
       " 'benign',\n",
       " 'benign',\n",
       " 'malignant',\n",
       " 'benign',\n",
       " 'malignant',\n",
       " 'malignant',\n",
       " 'malignant',\n",
       " 'benign',\n",
       " 'malignant',\n",
       " 'malignant',\n",
       " 'benign',\n",
       " 'benign',\n",
       " 'benign',\n",
       " 'malignant',\n",
       " 'malignant',\n",
       " 'benign',\n",
       " 'benign',\n",
       " 'malignant',\n",
       " 'benign',\n",
       " 'benign',\n",
       " 'benign',\n",
       " 'benign',\n",
       " 'benign',\n",
       " 'malignant',\n",
       " 'benign',\n",
       " 'benign',\n",
       " 'malignant',\n",
       " 'benign',\n",
       " 'benign',\n",
       " 'benign',\n",
       " 'benign',\n",
       " 'benign',\n",
       " 'benign',\n",
       " 'malignant',\n",
       " 'benign',\n",
       " 'benign',\n",
       " 'benign',\n",
       " 'benign',\n",
       " 'malignant',\n",
       " 'benign',\n",
       " 'benign',\n",
       " 'benign',\n",
       " 'benign',\n",
       " 'malignant',\n",
       " 'malignant',\n",
       " 'benign',\n",
       " 'benign',\n",
       " 'benign',\n",
       " 'benign',\n",
       " 'benign',\n",
       " 'malignant',\n",
       " 'benign',\n",
       " 'benign',\n",
       " 'malignant',\n",
       " 'malignant',\n",
       " 'benign',\n",
       " 'malignant',\n",
       " 'benign',\n",
       " 'benign',\n",
       " 'benign',\n",
       " 'benign',\n",
       " 'malignant',\n",
       " 'malignant',\n",
       " 'benign',\n",
       " 'malignant',\n",
       " 'benign',\n",
       " 'malignant',\n",
       " 'benign',\n",
       " 'malignant',\n",
       " 'benign',\n",
       " 'benign',\n",
       " 'benign',\n",
       " 'benign',\n",
       " 'malignant',\n",
       " 'malignant',\n",
       " 'benign',\n",
       " 'malignant',\n",
       " 'benign',\n",
       " 'malignant',\n",
       " 'benign',\n",
       " 'benign',\n",
       " 'benign',\n",
       " 'benign',\n",
       " 'malignant',\n",
       " 'benign',\n",
       " 'benign',\n",
       " 'benign',\n",
       " 'benign',\n",
       " 'benign',\n",
       " 'malignant',\n",
       " 'malignant',\n",
       " 'benign',\n",
       " 'benign',\n",
       " 'benign',\n",
       " 'benign',\n",
       " 'malignant',\n",
       " 'benign',\n",
       " 'malignant',\n",
       " 'benign',\n",
       " 'malignant']"
      ]
     },
     "execution_count": 26,
     "metadata": {},
     "output_type": "execute_result"
    }
   ],
   "source": [
    "vector"
   ]
  },
  {
   "cell_type": "markdown",
   "metadata": {},
   "source": [
    "# Doing Evaluation of Model"
   ]
  },
  {
   "cell_type": "code",
   "execution_count": 27,
   "metadata": {},
   "outputs": [
    {
     "name": "stdout",
     "output_type": "stream",
     "text": [
      "[[123   5]\n",
      " [  7  75]]\n"
     ]
    }
   ],
   "source": [
    "pred_lab = vector\n",
    "print (confusion_matrix(ytest,pred_lab))"
   ]
  },
  {
   "cell_type": "code",
   "execution_count": 28,
   "metadata": {},
   "outputs": [
    {
     "name": "stdout",
     "output_type": "stream",
     "text": [
      "              precision    recall  f1-score   support\n",
      "\n",
      "      benign       0.95      0.96      0.95       128\n",
      "   malignant       0.94      0.91      0.93        82\n",
      "\n",
      "    accuracy                           0.94       210\n",
      "   macro avg       0.94      0.94      0.94       210\n",
      "weighted avg       0.94      0.94      0.94       210\n",
      "\n"
     ]
    }
   ],
   "source": [
    "print (classification_report(ytest,pred_lab))"
   ]
  },
  {
   "cell_type": "markdown",
   "metadata": {},
   "source": [
    "# Odd Ratio"
   ]
  },
  {
   "cell_type": "code",
   "execution_count": 30,
   "metadata": {},
   "outputs": [],
   "source": [
    "(tn,fp,fn,tp) = confusion_matrix(ytest,pred_lab).ravel()"
   ]
  },
  {
   "cell_type": "code",
   "execution_count": 31,
   "metadata": {},
   "outputs": [
    {
     "data": {
      "text/plain": [
       "(123, 5, 7, 75)"
      ]
     },
     "execution_count": 31,
     "metadata": {},
     "output_type": "execute_result"
    }
   ],
   "source": [
    "(tn,fp,fn,tp)"
   ]
  },
  {
   "cell_type": "code",
   "execution_count": 32,
   "metadata": {},
   "outputs": [
    {
     "data": {
      "text/plain": [
       "(4.391288544201915, 6.757360270636713)"
      ]
     },
     "execution_count": 32,
     "metadata": {},
     "output_type": "execute_result"
    }
   ],
   "source": [
    "dor = (float(tp)/fp) /  (float(fn)/tn)\n",
    "x1 = 1.0/tp\n",
    "x2 = 1.0/fp\n",
    "x3 = 1.0/fn\n",
    "x4 = 1.0/tn\n",
    "se = np.sqrt(x1+x2+x3+x4)\n",
    "log_dor1 = np.log(dor) - 1.96 *se\n",
    "log_dor2 = np.log(dor) + 1.96 *se\n",
    "log_dor1,log_dor2\n"
   ]
  },
  {
   "cell_type": "code",
   "execution_count": null,
   "metadata": {},
   "outputs": [],
   "source": []
  }
 ],
 "metadata": {
  "kernelspec": {
   "display_name": "Python 3",
   "language": "python",
   "name": "python3"
  },
  "language_info": {
   "codemirror_mode": {
    "name": "ipython",
    "version": 3
   },
   "file_extension": ".py",
   "mimetype": "text/x-python",
   "name": "python",
   "nbconvert_exporter": "python",
   "pygments_lexer": "ipython3",
   "version": "3.6.8"
  }
 },
 "nbformat": 4,
 "nbformat_minor": 2
}
