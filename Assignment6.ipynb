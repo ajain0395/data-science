{
 "cells": [
  {
   "cell_type": "markdown",
   "metadata": {},
   "source": [
    "$\\begin{bmatrix}a & b & d\\\\c & d & e\\\\e & f & g\\end{bmatrix}$   =   $\\begin{bmatrix}a & b & d\\\\c & d & e\\\\e & f & g\\end{bmatrix}$"
   ]
  },
  {
   "cell_type": "markdown",
   "metadata": {},
   "source": [
    "# How does PCA help in data analysis?\n",
    "\n",
    "In Machine Learning techniques, we usually try to find patterns in extensive data. Since the data can be extensive because of its more dimensions, it can become computationally expensive to use it. Even it can be challenging to find patterns for solving problems in this comprehensive data.\n",
    "It turns out that many times there are datasets with high dimensions in which there might be inconsistencies in the features or some features might represent the same pattern as represented by other features. This leads to an increase in computation time making data processing time consuming.\n",
    "\n",
    "That's where PCA (Principal Component Analysis ) helps in.\n",
    "\n",
    "It is an unsupervised (no labels required for transformation or learning) statistical technique primarily used for dimensionality reduction in machine learning by finding the correlation among the features. \n",
    "Once the correlation among different features is found the decision is made to reduce the dimension of data in a way such that less/no information is lost or how much information loss is bearable before performing any computation on data.\n",
    "\n",
    "\n",
    "* PCA can also be used to reduce noise from datasets, such as image compression datasets, when representing each image as a vector and form a matrix before feeding to a model.\n",
    "* I can also be used to plot data in two dimensions by reducing it to two-dimensional space.\n",
    "\n",
    "\n",
    "\n",
    "#### How projection of data is changed after applying PCA\n",
    "![Screenshot from 2019-11-11 16-30-41](https://user-images.githubusercontent.com/10325504/68582463-c6836600-04a0-11ea-9dc4-468f8355a156.png)\n",
    "[Figure source](http://setosa.io/ev/principal-component-analysis/)\n",
    "\n",
    "In the Image above as we can see in the right image after projecting data in one dimension, the data points can be easily distinguished by retaining the information.\n",
    "\n",
    "## Working Example of PCA.\n",
    " **Step 1**\n",
    "Data Matrix D = ![](https://latex.codecogs.com/png.latex?%5Cbegin%7Bbmatrix%7D%202.5%20%26%202.4%5C%5C%200.5%20%26%200.7%5C%5C%202.2%20%26%202.9%5C%5C%201.9%20%26%202.2%5C%5C%203.1%20%26%203.0%5C%5C%202.3%20%26%202.7%5C%5C%202%20%26%201.6%5C%5C%201.1%20%26%201%5C%5C%201.5%20%26%201.6%5C%5C%201.1%20%26%200.9%20%5Cend%7Bbmatrix%7D)\n",
    "\n",
    " **Step 2**\n",
    "Calculate Mean Subtracted Data **Data<sub>meansub</sub>**\n",
    "\n",
    "Data<sub>meansub</sub> = ![](https://latex.codecogs.com/png.latex?%5Cbegin%7Bbmatrix%7D%20.69%20%26%20.49%5C%5C%20-1.31%20%26%20-1.21%5C%5C%20.39%20%26%20.99%5C%5C%20.09%20%26%20.29%5C%5C%201.29%20%26%201.09%5C%5C%20.49%20%26%20.79%5C%5C%20.19%20%26%20-.31%5C%5C%20-.81%20%26%20-.81%5C%5C%20-.31%20%26%20-.31%5C%5C%20-.71%20%26%20-1.01%20%5Cend%7Bbmatrix%7D)\n",
    "\n",
    "**Step 3**\n",
    "Calculate the Covariance Matrix **D<sub>cov</sub>** from Mean Subtracted Data **Data<sub>meansub</sub>**\n",
    "\n",
    "D<sub>cov</sub> = ![](https://latex.codecogs.com/png.latex?%5Cbegin%7Bbmatrix%7D%200.616555556%20%26%200.615444444%5C%5C%200.615444444%20%26%200.716555556%20%5Cend%7Bbmatrix%7D)\n",
    "\n",
    "\n",
    " **Step 4**\n",
    "Calculating the Eigen Values and Eigenvectors of the covariance Matrix **D<sub>cov</sub>**\n",
    "\n",
    "D<sub>eigenvalues|cov</sub> = ![](https://latex.codecogs.com/png.latex?%5Cbegin%7Bbmatrix%7D%200.0490833989%5C%5C%201.28402771%20%5Cend%7Bbmatrix%7D)\n",
    "\n",
    "D<sub>eigenvectors|cov</sub> = ![](https://latex.codecogs.com/png.latex?%5Cbegin%7Bbmatrix%7D%20-0.735178656%20%26%20-0.677873399%5C%5C%200.677873399%20%26%20-0.735178656%20%5Cend%7Bbmatrix%7D) \n",
    "\n",
    "**Step 5**\n",
    "Computing the Principal Components **D<sub>principal</sub>**\n",
    "\n",
    "D<sub>principal</sub> is formed by combining the eigenvectors formed from D<sub>cov</sub>\n",
    "\n",
    "D<sub>principal</sub> = ![](https://latex.codecogs.com/png.latex?%5Cbegin%7Bbmatrix%7D%20-0.735178656%5C%5C%200.677873399%20%5Cend%7Bbmatrix%7D)\n",
    "\n",
    "Based on how much dimensions one wants to project the data into.\n",
    "\n",
    "\n",
    "**Step 6**\n",
    "Calculating the resultant projected data **D<sub>resultant</sub>**\n",
    "\n",
    "##### D<sub>resultant</sub> = D<sub>principal</sub> X D<sub>meansub</sub>\n",
    "\n",
    "D<sub>resultant</sub> = ![](https://latex.codecogs.com/png.latex?%5Cbegin%7Bbmatrix%7D%20-0.827970186%5C%5C%201.77758033%5C%5C%20-0.992197494%5C%5C%20-0.274210416%5C%5C%20-1.67580142%5C%5C%20-0.912949103%5C%5C%200.0991094375%5C%5C%201.14457216%5C%5C%200.438046137%5C%5C%201.22382056%20%5Cend%7Bbmatrix%7D)\n",
    "\n",
    "The resultant matrix D<sub>resultant</sub> is a one dimensional matrix obtained from data matrix D by maintaining the high variance of data."
   ]
  },
  {
   "cell_type": "markdown",
   "metadata": {},
   "source": [
    "https://stackoverflow.com/questions/25123845/pca-projection-plot-with-ggplot2"
   ]
  },
  {
   "cell_type": "code",
   "execution_count": 29,
   "metadata": {},
   "outputs": [],
   "source": [
    "def strtomat(stringip,x,y):\n",
    "    return matstring(np.array(stringip.split(',')).reshape(x,y))\n",
    "def matstring(matrix):\n",
    "    ms = \"https://latex.codecogs.com/png.latex?%5Cbegin%7Bbmatrix%7D%20\"\n",
    "    count = len(matrix)-1\n",
    "    for i in matrix:\n",
    "        for j in range(len(i)):\n",
    "            if(j < len(i) - 1):\n",
    "                ms+=str(i[j])+\"%20%26%20\"\n",
    "            else:\n",
    "                ms+=str(i[j])\n",
    "        count -=1\n",
    "        if(count>=0):\n",
    "            ms+=\"%5C%5C%20\"\n",
    "    ms+=\"%20%5Cend%7Bbmatrix%7D\"\n",
    "    return ms\n",
    "        "
   ]
  },
  {
   "cell_type": "code",
   "execution_count": 16,
   "metadata": {},
   "outputs": [
    {
     "data": {
      "text/plain": [
       "'https://latex.codecogs.com/png.latex?%5Cbegin%7Bbmatrix%7D%201%20%26%202%20%26%203%5C%5C%204%20%26%205%20%26%20-6%20%5Cend%7Bbmatrix%7D'"
      ]
     },
     "execution_count": 16,
     "metadata": {},
     "output_type": "execute_result"
    }
   ],
   "source": [
    "matstring(A)"
   ]
  },
  {
   "cell_type": "code",
   "execution_count": 20,
   "metadata": {},
   "outputs": [
    {
     "data": {
      "text/plain": [
       "'https://latex.codecogs.com/png.latex?%5Cbegin%7Bbmatrix%7D%201%20%26%202%5C%5C%203%20%26%204%5C%5C%205%20%26%20-6%20%5Cend%7Bbmatrix%7D'"
      ]
     },
     "execution_count": 20,
     "metadata": {},
     "output_type": "execute_result"
    }
   ],
   "source": [
    "strtomat(\"1,2,3,4,5,-6\",3,2)"
   ]
  },
  {
   "cell_type": "code",
   "execution_count": 12,
   "metadata": {},
   "outputs": [],
   "source": [
    "import numpy as np"
   ]
  },
  {
   "cell_type": "code",
   "execution_count": 13,
   "metadata": {},
   "outputs": [],
   "source": [
    "A = np.array(str(\"1,2,3,4,5,-6\").split(',')).reshape(2,3)"
   ]
  },
  {
   "cell_type": "code",
   "execution_count": 21,
   "metadata": {},
   "outputs": [
    {
     "data": {
      "text/plain": [
       "'https://latex.codecogs.com/png.latex?%5Cbegin%7Bbmatrix%7D%202.5%20%26%202.4%5C%5C%200.5%20%26%200.7%5C%5C%202.2%20%26%202.9%5C%5C%201.9%20%26%202.2%5C%5C%203.1%20%26%203.0%5C%5C%202.3%20%26%202.7%5C%5C%202%20%26%201.6%5C%5C%201.1%20%26%201%5C%5C%201.5%20%26%201.6%5C%5C%201.1%20%26%200.9%20%5Cend%7Bbmatrix%7D'"
      ]
     },
     "execution_count": 21,
     "metadata": {},
     "output_type": "execute_result"
    }
   ],
   "source": [
    "strtomat(\"2.5,2.4,0.5,0.7,2.2,2.9,1.9,2.2,3.1,3.0,2.3,2.7,2,1.6,1.1,1,1.5,1.6,1.1,0.9\",10,2)"
   ]
  },
  {
   "cell_type": "code",
   "execution_count": null,
   "metadata": {},
   "outputs": [],
   "source": [
    "strtomat(\"0.69,0.49,-1.31,-1.21,0.39,0.99,0.09,0.29,1.29,1.09,0.49,0.79,0.19,-0.31-0.81,-0.81,\",10,2)"
   ]
  },
  {
   "cell_type": "code",
   "execution_count": null,
   "metadata": {},
   "outputs": [],
   "source": [
    "\".19 -.31\n",
    "-.81 -.81\n",
    "-.31 -.31\n",
    "-.71 -1.01\""
   ]
  },
  {
   "cell_type": "code",
   "execution_count": 30,
   "metadata": {},
   "outputs": [
    {
     "data": {
      "text/plain": [
       "'https://latex.codecogs.com/png.latex?%5Cbegin%7Bbmatrix%7D%20.69%20%26%20.49%5C%5C%20-1.31%20%26%20-1.21%5C%5C%20.39%20%26%20.99%5C%5C%20.09%20%26%20.29%5C%5C%201.29%20%26%201.09%5C%5C%20.49%20%26%20.79%5C%5C%20.19%20%26%20-.31%5C%5C%20-.81%20%26%20-.81%5C%5C%20-.31%20%26%20-.31%5C%5C%20-.71%20%26%20-1.01%20%5Cend%7Bbmatrix%7D'"
      ]
     },
     "execution_count": 30,
     "metadata": {},
     "output_type": "execute_result"
    }
   ],
   "source": [
    "strtomat(\".69,.49,-1.31,-1.21,.39,.99,.09,.29,1.29,1.09,.49,.79,.19,-.31,-.81,-.81,-.31,-.31,-.71,-1.01\",10,2)"
   ]
  },
  {
   "cell_type": "code",
   "execution_count": 31,
   "metadata": {},
   "outputs": [
    {
     "data": {
      "text/plain": [
       "'https://latex.codecogs.com/png.latex?%5Cbegin%7Bbmatrix%7D%200.616555556%20%26%200.615444444%5C%5C%200.615444444%20%26%200.716555556%20%5Cend%7Bbmatrix%7D'"
      ]
     },
     "execution_count": 31,
     "metadata": {},
     "output_type": "execute_result"
    }
   ],
   "source": [
    "strtomat(\"0.616555556,0.615444444,0.615444444,0.716555556\",2,2)"
   ]
  },
  {
   "cell_type": "code",
   "execution_count": 34,
   "metadata": {},
   "outputs": [
    {
     "data": {
      "text/plain": [
       "'https://latex.codecogs.com/png.latex?%5Cbegin%7Bbmatrix%7D%200.0490833989%5C%5C%201.28402771%20%5Cend%7Bbmatrix%7D'"
      ]
     },
     "execution_count": 34,
     "metadata": {},
     "output_type": "execute_result"
    }
   ],
   "source": [
    "strtomat(\"0.0490833989,1.28402771\",2,1)"
   ]
  },
  {
   "cell_type": "code",
   "execution_count": 33,
   "metadata": {},
   "outputs": [
    {
     "data": {
      "text/plain": [
       "'https://latex.codecogs.com/png.latex?%5Cbegin%7Bbmatrix%7D%20-0.735178656%20%26%20-0.677873399%5C%5C%200.677873399%20%26%20-0.735178656%20%5Cend%7Bbmatrix%7D'"
      ]
     },
     "execution_count": 33,
     "metadata": {},
     "output_type": "execute_result"
    }
   ],
   "source": [
    "strtomat(\"-0.735178656,-0.677873399,0.677873399,-0.735178656\",2,2)"
   ]
  },
  {
   "cell_type": "code",
   "execution_count": 38,
   "metadata": {},
   "outputs": [
    {
     "data": {
      "text/plain": [
       "'https://latex.codecogs.com/png.latex?%5Cbegin%7Bbmatrix%7D%20-0.735178656%5C%5C%200.677873399%20%5Cend%7Bbmatrix%7D'"
      ]
     },
     "execution_count": 38,
     "metadata": {},
     "output_type": "execute_result"
    }
   ],
   "source": [
    "strtomat(\"-0.735178656,0.677873399\",2,1)"
   ]
  },
  {
   "cell_type": "code",
   "execution_count": 37,
   "metadata": {},
   "outputs": [
    {
     "data": {
      "text/plain": [
       "'https://latex.codecogs.com/png.latex?%5Cbegin%7Bbmatrix%7D%20-0.827970186%5C%5C%201.77758033%5C%5C%20-0.992197494%5C%5C%20-0.274210416%5C%5C%20-1.67580142%5C%5C%20-0.912949103%5C%5C%200.0991094375%5C%5C%201.14457216%5C%5C%200.438046137%5C%5C%201.22382056%20%5Cend%7Bbmatrix%7D'"
      ]
     },
     "execution_count": 37,
     "metadata": {},
     "output_type": "execute_result"
    }
   ],
   "source": [
    "strtomat(\"-0.827970186,1.77758033,-0.992197494,-0.274210416,-1.67580142,-0.912949103,0.0991094375,1.14457216,0.438046137,1.22382056\",10,1)"
   ]
  },
  {
   "cell_type": "code",
   "execution_count": null,
   "metadata": {},
   "outputs": [],
   "source": []
  }
 ],
 "metadata": {
  "kernelspec": {
   "display_name": "Python 3",
   "language": "python",
   "name": "python3"
  },
  "language_info": {
   "codemirror_mode": {
    "name": "ipython",
    "version": 3
   },
   "file_extension": ".py",
   "mimetype": "text/x-python",
   "name": "python",
   "nbconvert_exporter": "python",
   "pygments_lexer": "ipython3",
   "version": "3.7.3"
  }
 },
 "nbformat": 4,
 "nbformat_minor": 2
}
