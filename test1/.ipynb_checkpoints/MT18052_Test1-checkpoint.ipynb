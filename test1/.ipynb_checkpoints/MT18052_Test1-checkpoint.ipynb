{
 "cells": [
  {
   "cell_type": "code",
   "execution_count": 45,
   "metadata": {},
   "outputs": [],
   "source": [
    "import pandas as pd\n",
    "import csv\n",
    "import numpy as np\n",
    "from sklearn.cluster import KMeans\n",
    "import matplotlib.pyplot as plt\n",
    "import matplotlib\n",
    "from sklearn.manifold import TSNE\n",
    "import warnings\n",
    "warnings.filterwarnings(\"ignore\")\n",
    "svd = TruncatedSVD(n_components=2)\n",
    "\n",
    "# matplotlib.use('Agg')"
   ]
  },
  {
   "cell_type": "code",
   "execution_count": 46,
   "metadata": {},
   "outputs": [],
   "source": [
    "data = []\n",
    "labels = []\n",
    "with open('iris.data') as csvfile:\n",
    "    readCSV = csv.reader(csvfile, delimiter=',')\n",
    "    for row in readCSV:\n",
    "#         data.append(row[0:4])\n",
    "        labels.append(row[4])\n",
    "        tmp = np.array(row[0:4]).astype(float)\n",
    "        data.append(tmp)\n",
    "data = np.array(data)\n",
    "labels = np.array (labels)"
   ]
  },
  {
   "cell_type": "code",
   "execution_count": 47,
   "metadata": {},
   "outputs": [
    {
     "name": "stdout",
     "output_type": "stream",
     "text": [
      "150\n"
     ]
    }
   ],
   "source": [
    "print (len(data))"
   ]
  },
  {
   "cell_type": "code",
   "execution_count": 48,
   "metadata": {},
   "outputs": [],
   "source": [
    "def plotgraph(resultlist,title=\"\"):\n",
    "    '''\n",
    "    fig = plt.figure()\n",
    "    ax = fig.gca(projection='3d')\n",
    "    '''\n",
    "#     plt.figure()\n",
    "    for i in sorted(resultlist.keys()):\n",
    "        '''\n",
    "        x = resultlist[i].T[0]\n",
    "        y = resultlist[i].T[1]\n",
    "        z = resultlist[i].T[2]\n",
    "        \n",
    "        ax.scatter(x,y,z,label='Cluster ' + str(i))\n",
    "        '''\n",
    "        plt.scatter(resultlist[i].T[0],resultlist[i].T[1],label='Cluster ' + str(i))\n",
    "        #plt.show()\n",
    "    plt.legend(loc='best')\n",
    "    plt.title(title)\n",
    "    plt.show()"
   ]
  },
  {
   "cell_type": "code",
   "execution_count": 51,
   "metadata": {},
   "outputs": [],
   "source": [
    "def completefun(datapoints,numclusters=3):\n",
    "#     print (datapoints)\n",
    "    kmeans = KMeans(n_clusters=numclusters, random_state=0).fit(datapoints)\n",
    "#     svd = TruncatedSVD(n_components=2)\n",
    "    tnsepoints = svd.fit_transform(datapoints)\n",
    "    clusters = {}\n",
    "    predicted_labels = []\n",
    "    for i in range(len(kmeans.labels_)):\n",
    "        predicted_labels.append(kmeans.labels_[i])\n",
    "        if(kmeans.labels_[i] not in clusters):\n",
    "            clusters[kmeans.labels_[i]] = []\n",
    "        clusters[kmeans.labels_[i]].append(i)\n",
    "    for i in clusters.keys():\n",
    "        clusters[i] = tnsepoints[clusters[i]]\n",
    "#     print (clusters)\n",
    "\n",
    "    plotgraph(clusters,\"Kmeans \")\n",
    "    return kmeans.labels_\n",
    "#     print (\"Clusters using Kmeans: %d\"%(len(set(kmeans.labels_))))"
   ]
  },
  {
   "cell_type": "code",
   "execution_count": 52,
   "metadata": {},
   "outputs": [
    {
     "data": {
      "image/png": "[encoded data removed]",
      "text/plain": [
       "<Figure size 432x288 with 1 Axes>"
      ]
     },
     "metadata": {
      "needs_background": "light"
     },
     "output_type": "display_data"
    }
   ],
   "source": [
    "predicted_labels = completefun(data)"
   ]
  },
  {
   "cell_type": "code",
   "execution_count": 53,
   "metadata": {},
   "outputs": [
    {
     "name": "stdout",
     "output_type": "stream",
     "text": [
      "[1 1 1 1 1 1 1 1 1 1 1 1 1 1 1 1 1 1 1 1 1 1 1 1 1 1 1 1 1 1 1 1 1 1 1 1 1\n",
      " 1 1 1 1 1 1 1 1 1 1 1 1 1 0 0 2 0 0 0 0 0 0 0 0 0 0 0 0 0 0 0 0 0 0 0 0 0\n",
      " 0 0 0 2 0 0 0 0 0 0 0 0 0 0 0 0 0 0 0 0 0 0 0 0 0 0 2 0 2 2 2 2 0 2 2 2 2\n",
      " 2 2 0 0 2 2 2 2 0 2 0 2 0 2 2 0 0 2 2 2 2 2 0 2 2 2 2 0 2 2 2 0 2 2 2 0 2\n",
      " 2 0]\n"
     ]
    }
   ],
   "source": [
    "print (predicted_labels)"
   ]
  },
  {
   "cell_type": "code",
   "execution_count": 54,
   "metadata": {},
   "outputs": [
    {
     "name": "stdout",
     "output_type": "stream",
     "text": [
      "['Iris-setosa' 'Iris-setosa' 'Iris-setosa' 'Iris-setosa' 'Iris-setosa'\n",
      " 'Iris-setosa' 'Iris-setosa' 'Iris-setosa' 'Iris-setosa' 'Iris-setosa'\n",
      " 'Iris-setosa' 'Iris-setosa' 'Iris-setosa' 'Iris-setosa' 'Iris-setosa'\n",
      " 'Iris-setosa' 'Iris-setosa' 'Iris-setosa' 'Iris-setosa' 'Iris-setosa'\n",
      " 'Iris-setosa' 'Iris-setosa' 'Iris-setosa' 'Iris-setosa' 'Iris-setosa'\n",
      " 'Iris-setosa' 'Iris-setosa' 'Iris-setosa' 'Iris-setosa' 'Iris-setosa'\n",
      " 'Iris-setosa' 'Iris-setosa' 'Iris-setosa' 'Iris-setosa' 'Iris-setosa'\n",
      " 'Iris-setosa' 'Iris-setosa' 'Iris-setosa' 'Iris-setosa' 'Iris-setosa'\n",
      " 'Iris-setosa' 'Iris-setosa' 'Iris-setosa' 'Iris-setosa' 'Iris-setosa'\n",
      " 'Iris-setosa' 'Iris-setosa' 'Iris-setosa' 'Iris-setosa' 'Iris-setosa'\n",
      " 'Iris-versicolor' 'Iris-versicolor' 'Iris-versicolor' 'Iris-versicolor'\n",
      " 'Iris-versicolor' 'Iris-versicolor' 'Iris-versicolor' 'Iris-versicolor'\n",
      " 'Iris-versicolor' 'Iris-versicolor' 'Iris-versicolor' 'Iris-versicolor'\n",
      " 'Iris-versicolor' 'Iris-versicolor' 'Iris-versicolor' 'Iris-versicolor'\n",
      " 'Iris-versicolor' 'Iris-versicolor' 'Iris-versicolor' 'Iris-versicolor'\n",
      " 'Iris-versicolor' 'Iris-versicolor' 'Iris-versicolor' 'Iris-versicolor'\n",
      " 'Iris-versicolor' 'Iris-versicolor' 'Iris-versicolor' 'Iris-versicolor'\n",
      " 'Iris-versicolor' 'Iris-versicolor' 'Iris-versicolor' 'Iris-versicolor'\n",
      " 'Iris-versicolor' 'Iris-versicolor' 'Iris-versicolor' 'Iris-versicolor'\n",
      " 'Iris-versicolor' 'Iris-versicolor' 'Iris-versicolor' 'Iris-versicolor'\n",
      " 'Iris-versicolor' 'Iris-versicolor' 'Iris-versicolor' 'Iris-versicolor'\n",
      " 'Iris-versicolor' 'Iris-versicolor' 'Iris-versicolor' 'Iris-versicolor'\n",
      " 'Iris-versicolor' 'Iris-versicolor' 'Iris-virginica' 'Iris-virginica'\n",
      " 'Iris-virginica' 'Iris-virginica' 'Iris-virginica' 'Iris-virginica'\n",
      " 'Iris-virginica' 'Iris-virginica' 'Iris-virginica' 'Iris-virginica'\n",
      " 'Iris-virginica' 'Iris-virginica' 'Iris-virginica' 'Iris-virginica'\n",
      " 'Iris-virginica' 'Iris-virginica' 'Iris-virginica' 'Iris-virginica'\n",
      " 'Iris-virginica' 'Iris-virginica' 'Iris-virginica' 'Iris-virginica'\n",
      " 'Iris-virginica' 'Iris-virginica' 'Iris-virginica' 'Iris-virginica'\n",
      " 'Iris-virginica' 'Iris-virginica' 'Iris-virginica' 'Iris-virginica'\n",
      " 'Iris-virginica' 'Iris-virginica' 'Iris-virginica' 'Iris-virginica'\n",
      " 'Iris-virginica' 'Iris-virginica' 'Iris-virginica' 'Iris-virginica'\n",
      " 'Iris-virginica' 'Iris-virginica' 'Iris-virginica' 'Iris-virginica'\n",
      " 'Iris-virginica' 'Iris-virginica' 'Iris-virginica' 'Iris-virginica'\n",
      " 'Iris-virginica' 'Iris-virginica' 'Iris-virginica' 'Iris-virginica']\n"
     ]
    }
   ],
   "source": [
    "print(labels)"
   ]
  },
  {
   "cell_type": "code",
   "execution_count": 55,
   "metadata": {},
   "outputs": [],
   "source": [
    "image = data[0]"
   ]
  },
  {
   "cell_type": "code",
   "execution_count": 56,
   "metadata": {},
   "outputs": [],
   "source": [
    "from matplotlib import pyplot as plt\n",
    "from sklearn.decomposition import TruncatedSVD"
   ]
  },
  {
   "cell_type": "code",
   "execution_count": 62,
   "metadata": {},
   "outputs": [],
   "source": [
    "svd = TruncatedSVD(n_components=2)\n",
    "scd_data = svd.fit_transform(data)\n",
    "tnsepoints = svd.fit_transform(data)\n",
    "# plotgraph(clusters,\"Original  \")"
   ]
  },
  {
   "cell_type": "code",
   "execution_count": 63,
   "metadata": {},
   "outputs": [],
   "source": [
    "y = set(labels)\n",
    "clusters  = {}\n",
    "data = np.array(data)\n",
    "for i in range(len(labels)):\n",
    "#     predicted_labels.append(kmeans.labels_[i])\n",
    "    if(labels[i] not in clusters):\n",
    "        clusters[labels[i]] = []\n",
    "    clusters[labels[i]].append(i)\n",
    "for i in clusters.keys():\n",
    "    clusters[i] = tnsepoints[clusters[i]]"
   ]
  },
  {
   "cell_type": "code",
   "execution_count": 64,
   "metadata": {},
   "outputs": [
    {
     "data": {
      "text/plain": [
       "numpy.float64"
      ]
     },
     "execution_count": 64,
     "metadata": {},
     "output_type": "execute_result"
    }
   ],
   "source": [
    "type(data[0][0])"
   ]
  },
  {
   "cell_type": "code",
   "execution_count": 65,
   "metadata": {},
   "outputs": [
    {
     "data": {
      "text/plain": [
       "{'Iris-setosa': array([[5.91220352, 2.30344211],\n",
       "        [5.57207573, 1.97383104],\n",
       "        [5.4464847 , 2.09653267],\n",
       "        [5.43601924, 1.87168085],\n",
       "        [5.87506555, 2.32934799],\n",
       "        [6.47699043, 2.32552598],\n",
       "        [5.51542859, 2.07156181],\n",
       "        [5.85042297, 2.14948016],\n",
       "        [5.15851287, 1.77642658],\n",
       "        [5.64458172, 1.99190598],\n",
       "        [6.2648267 , 2.42727947],\n",
       "        [5.75150446, 2.02142409],\n",
       "        [5.48017099, 1.97972378],\n",
       "        [4.95064168, 2.04947793],\n",
       "        [6.52528515, 2.9177484 ],\n",
       "        [6.78960484, 2.8254999 ],\n",
       "        [6.27173006, 2.60908548],\n",
       "        [5.92899145, 2.26896626],\n",
       "        [6.64757408, 2.39126214],\n",
       "        [6.09424306, 2.36154331],\n",
       "        [6.25352038, 2.12203279],\n",
       "        [6.07305216, 2.27257849],\n",
       "        [5.36933796, 2.4985751 ],\n",
       "        [6.04055493, 1.878367  ],\n",
       "        [5.90544974, 1.80875447],\n",
       "        [5.74982272, 1.86063438],\n",
       "        [5.93531393, 2.0096386 ],\n",
       "        [6.03863542, 2.26113533],\n",
       "        [5.94934149, 2.27753623],\n",
       "        [5.60042998, 1.88386305],\n",
       "        [5.63756795, 1.85795717],\n",
       "        [6.18446606, 2.19486085],\n",
       "        [6.24972051, 2.62254502],\n",
       "        [6.4785226 , 2.79919732],\n",
       "        [5.64458172, 1.99190598],\n",
       "        [5.62052002, 2.25317183],\n",
       "        [6.16135565, 2.48866436],\n",
       "        [5.64458172, 1.99190598],\n",
       "        [5.14517661, 1.90180543],\n",
       "        [5.92553978, 2.17806326],\n",
       "        [5.80255956, 2.31127304],\n",
       "        [4.97122949, 1.51448985],\n",
       "        [5.22113428, 2.01078338],\n",
       "        [6.00686864, 1.99517588],\n",
       "        [6.31629137, 2.04350797],\n",
       "        [5.51374686, 1.9107721 ],\n",
       "        [6.12877022, 2.32512928],\n",
       "        [5.42268299, 1.9970597 ],\n",
       "        [6.1897099 , 2.39869637],\n",
       "        [5.76112904, 2.16588106]]),\n",
       " 'Iris-versicolor': array([[ 9.12033960e+00, -7.00219921e-02],\n",
       "        [ 8.58379652e+00, -1.34216664e-01],\n",
       "        [ 9.12666208e+00, -3.29349657e-01],\n",
       "        [ 7.27578441e+00, -4.58464245e-01],\n",
       "        [ 8.55831307e+00, -3.94479344e-01],\n",
       "        [ 7.87248767e+00, -4.83302548e-01],\n",
       "        [ 8.66607667e+00, -2.84566378e-01],\n",
       "        [ 6.45349296e+00,  2.41828100e-02],\n",
       "        [ 8.63783285e+00, -2.42455583e-01],\n",
       "        [ 7.16782218e+00, -2.89843601e-01],\n",
       "        [ 6.47932460e+00, -3.06969745e-01],\n",
       "        [ 7.97830954e+00, -1.73440471e-01],\n",
       "        [ 7.56302580e+00, -2.66610207e-01],\n",
       "        [ 8.33035185e+00, -4.90736782e-01],\n",
       "        [ 7.37351386e+00,  1.80612202e-01],\n",
       "        [ 8.70306507e+00,  2.40936792e-03],\n",
       "        [ 7.90690441e+00, -4.71859382e-01],\n",
       "        [ 7.65400146e+00, -1.22221396e-01],\n",
       "        [ 8.05377454e+00, -7.36272611e-01],\n",
       "        [ 7.34196793e+00, -1.81061634e-01],\n",
       "        [ 8.41252158e+00, -5.93229301e-01],\n",
       "        [ 7.91637942e+00, -1.45207918e-02],\n",
       "        [ 8.44808823e+00, -8.27782086e-01],\n",
       "        [ 8.25879715e+00, -4.76274069e-01],\n",
       "        [ 8.33365396e+00, -8.69521519e-02],\n",
       "        [ 8.58996943e+00, -8.06627036e-02],\n",
       "        [ 8.86950574e+00, -4.16033961e-01],\n",
       "        [ 9.02334060e+00, -5.80846389e-01],\n",
       "        [ 8.16939279e+00, -4.12015974e-01],\n",
       "        [ 7.23301526e+00,  2.20045780e-01],\n",
       "        [ 7.17755719e+00, -1.93243831e-01],\n",
       "        [ 7.10945416e+00, -8.78781122e-02],\n",
       "        [ 7.58494714e+00, -4.93933360e-02],\n",
       "        [ 8.41811361e+00, -9.80809017e-01],\n",
       "        [ 7.75667080e+00, -5.29025574e-01],\n",
       "        [ 8.37607491e+00, -1.74046941e-01],\n",
       "        [ 8.87379829e+00, -2.44736100e-01],\n",
       "        [ 8.08197922e+00, -5.13358976e-01],\n",
       "        [ 7.66806816e+00, -1.19348195e-01],\n",
       "        [ 7.35174208e+00, -3.49486294e-01],\n",
       "        [ 7.57819336e+00, -5.44080972e-01],\n",
       "        [ 8.31701559e+00, -3.65357932e-01],\n",
       "        [ 7.59828340e+00, -1.74772186e-01],\n",
       "        [ 6.49063093e+00, -1.72306959e-03],\n",
       "        [ 7.60544675e+00, -3.53704996e-01],\n",
       "        [ 7.77771213e+00, -1.27179129e-01],\n",
       "        [ 7.75652123e+00, -2.16143949e-01],\n",
       "        [ 8.18342035e+00, -1.44118344e-01],\n",
       "        [ 6.50454806e+00,  3.14031756e-01],\n",
       "        [ 7.66722730e+00, -1.99743050e-01]]),\n",
       " 'Iris-virginica': array([[ 9.4842643 , -1.51641735],\n",
       "        [ 8.3182438 , -1.14140274],\n",
       "        [ 9.8527954 , -1.24242625],\n",
       "        [ 9.00957304, -1.20948284],\n",
       "        [ 9.36756741, -1.3775108 ],\n",
       "        [10.58758508, -1.5957399 ],\n",
       "        [ 7.22476846, -1.01333762],\n",
       "        [10.11994674, -1.419881  ],\n",
       "        [ 9.2607551 , -1.45488611],\n",
       "        [10.32556714, -1.16659243],\n",
       "        [ 9.05074356, -0.70335204],\n",
       "        [ 8.87157482, -1.11168392],\n",
       "        [ 9.42218461, -1.04461604],\n",
       "        [ 8.13264217, -1.24254976],\n",
       "        [ 8.44016231, -1.25929299],\n",
       "        [ 9.12862074, -0.97714242],\n",
       "        [ 9.14647039, -1.0269378 ],\n",
       "        [11.0346356 , -1.23661071],\n",
       "        [10.69830769, -2.06673401],\n",
       "        [ 8.1601164 , -1.14788818],\n",
       "        [ 9.70946514, -1.11778643],\n",
       "        [ 8.12014678, -1.03677605],\n",
       "        [10.62127137, -1.71254878],\n",
       "        [ 8.57440971, -0.82223167],\n",
       "        [ 9.5636345 , -1.05151196],\n",
       "        [10.00482117, -1.07232755],\n",
       "        [ 8.48595665, -0.72543592],\n",
       "        [ 8.53811261, -0.71593093],\n",
       "        [ 9.09707481, -1.33881625],\n",
       "        [ 9.79265744, -0.97057406],\n",
       "        [10.07124246, -1.33848298],\n",
       "        [10.99734807, -0.89782321],\n",
       "        [ 9.11386274, -1.3732921 ],\n",
       "        [ 8.66465493, -0.80609491],\n",
       "        [ 8.67825118, -1.29221258],\n",
       "        [10.43970228, -1.28165912],\n",
       "        [ 9.30019482, -1.14389303],\n",
       "        [ 9.10933242, -1.00103192],\n",
       "        [ 8.41168071, -0.67362416],\n",
       "        [ 9.48396516, -0.8906541 ],\n",
       "        [ 9.48672553, -1.19302757],\n",
       "        [ 9.36359574, -0.74693616],\n",
       "        [ 8.3182438 , -1.14140274],\n",
       "        [ 9.73697852, -1.28814928],\n",
       "        [ 9.63078623, -1.18941534],\n",
       "        [ 9.22669839, -0.92948121],\n",
       "        [ 8.56655506, -1.03657534],\n",
       "        [ 9.02610098, -0.88321986],\n",
       "        [ 9.1056599 , -0.99622053],\n",
       "        [ 8.49050919, -0.91487688]])}"
      ]
     },
     "execution_count": 65,
     "metadata": {},
     "output_type": "execute_result"
    }
   ],
   "source": [
    "clusters"
   ]
  },
  {
   "cell_type": "code",
   "execution_count": 66,
   "metadata": {},
   "outputs": [
    {
     "data": {
      "image/png": "[encoded data removed]",
      "text/plain": [
       "<Figure size 432x288 with 1 Axes>"
      ]
     },
     "metadata": {
      "needs_background": "light"
     },
     "output_type": "display_data"
    }
   ],
   "source": [
    "# tnsepoints = svd.fit_transform(data)\n",
    "plotgraph(clusters,\"Original  \")"
   ]
  },
  {
   "cell_type": "markdown",
   "metadata": {},
   "source": [
    "2 clusters are close to each other but are easily saperable but 1 cluster is fr from others"
   ]
  }
 ],
 "metadata": {
  "kernelspec": {
   "display_name": "Python 3",
   "language": "python",
   "name": "python3"
  },
  "language_info": {
   "codemirror_mode": {
    "name": "ipython",
    "version": 3
   },
   "file_extension": ".py",
   "mimetype": "text/x-python",
   "name": "python",
   "nbconvert_exporter": "python",
   "pygments_lexer": "ipython3",
   "version": "3.7.3"
  }
 },
 "nbformat": 4,
 "nbformat_minor": 2
}
